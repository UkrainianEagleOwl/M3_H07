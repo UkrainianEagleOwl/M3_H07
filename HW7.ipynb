{
 "cells": [
  {
   "cell_type": "code",
   "execution_count": 1,
   "id": "e49f5f9b-e9f1-4a98-8249-b42bf7356834",
   "metadata": {},
   "outputs": [
    {
     "name": "stdout",
     "output_type": "stream",
     "text": [
      "Dataset ml-100k could not be found. Do you want to download it? [Y/n] "
     ]
    },
    {
     "name": "stdin",
     "output_type": "stream",
     "text": [
      " Y\n"
     ]
    },
    {
     "name": "stdout",
     "output_type": "stream",
     "text": [
      "Trying to download dataset from https://files.grouplens.org/datasets/movielens/ml-100k.zip...\n",
      "Done! Dataset ml-100k has been saved to C:\\Users\\Dmytro/.surprise_data/ml-100k\n",
      "Evaluating RMSE, MAE of algorithm SVD on 5 split(s).\n",
      "\n",
      "                  Fold 1  Fold 2  Fold 3  Fold 4  Fold 5  Mean    Std     \n",
      "RMSE (testset)    0.9354  0.9412  0.9355  0.9295  0.9442  0.9371  0.0051  \n",
      "MAE (testset)     0.7390  0.7415  0.7391  0.7294  0.7420  0.7382  0.0046  \n",
      "Fit time          0.77    0.77    0.77    0.77    0.78    0.77    0.00    \n",
      "Test time         0.07    0.07    0.10    0.10    0.10    0.09    0.01    \n"
     ]
    },
    {
     "data": {
      "text/plain": [
       "{'test_rmse': array([0.93535652, 0.94124845, 0.93545333, 0.92950622, 0.94416133]),\n",
       " 'test_mae': array([0.73904957, 0.74147836, 0.73909248, 0.72943359, 0.74203729]),\n",
       " 'fit_time': (0.7664635181427002,\n",
       "  0.7739138603210449,\n",
       "  0.7721354961395264,\n",
       "  0.7743098735809326,\n",
       "  0.7806704044342041),\n",
       " 'test_time': (0.07164669036865234,\n",
       "  0.06847667694091797,\n",
       "  0.09867310523986816,\n",
       "  0.0993344783782959,\n",
       "  0.10248613357543945)}"
      ]
     },
     "execution_count": 1,
     "metadata": {},
     "output_type": "execute_result"
    }
   ],
   "source": [
    "from surprise import Dataset\n",
    "from surprise import SVD\n",
    "from surprise.model_selection import cross_validate\n",
    "\n",
    "# Load the movielens-100k dataset\n",
    "data = Dataset.load_builtin('ml-100k')\n",
    "\n",
    "# Use the famous SVD algorithm\n",
    "algo = SVD()\n",
    "\n",
    "# Perform cross-validation\n",
    "cross_validate(algo, data, measures=['RMSE', 'MAE'], cv=5, verbose=True)\n"
   ]
  },
  {
   "cell_type": "code",
   "execution_count": 2,
   "id": "b0629596-2699-4da5-b74f-20d6cf385d82",
   "metadata": {},
   "outputs": [
    {
     "name": "stdout",
     "output_type": "stream",
     "text": [
      "Best RMSE score: 0.9279010537341783\n",
      "Best parameters: {'n_epochs': 20, 'lr_all': 0.01, 'reg_all': 0.1}\n"
     ]
    }
   ],
   "source": [
    "from surprise.model_selection import GridSearchCV\n",
    "\n",
    "# Define a parameter grid to search over\n",
    "param_grid = {\n",
    "    'n_epochs': [5, 10, 20], # Number of epochs\n",
    "    'lr_all': [0.002, 0.005, 0.01], # Learning rate\n",
    "    'reg_all': [0.02, 0.1, 0.5] # Regularization term\n",
    "}\n",
    "\n",
    "# Set up GridSearchCV with SVD algorithm, using RMSE as the evaluation metric\n",
    "gs = GridSearchCV(SVD, param_grid, measures=['RMSE'], cv=3)\n",
    "\n",
    "# Perform the grid search on the data\n",
    "gs.fit(data)\n",
    "\n",
    "# Best RMSE score\n",
    "print(f\"Best RMSE score: {gs.best_score['rmse']}\")\n",
    "\n",
    "# Combination of parameters that gave the best RMSE score\n",
    "print(f\"Best parameters: {gs.best_params['rmse']}\")\n"
   ]
  },
  {
   "cell_type": "code",
   "execution_count": 3,
   "id": "2bb62b18-5b73-42a2-8a7b-9501370c1515",
   "metadata": {},
   "outputs": [
    {
     "name": "stdout",
     "output_type": "stream",
     "text": [
      "Evaluating SVD++...\n",
      "Evaluating RMSE, MAE of algorithm SVDpp on 3 split(s).\n",
      "\n",
      "                  Fold 1  Fold 2  Fold 3  Mean    Std     \n",
      "RMSE (testset)    0.9279  0.9304  0.9279  0.9287  0.0012  \n",
      "MAE (testset)     0.7356  0.7354  0.7344  0.7351  0.0005  \n",
      "Fit time          8.13    8.12    8.10    8.12    0.01    \n",
      "Test time         3.36    3.36    3.57    3.43    0.10    \n",
      "Evaluating NMF...\n",
      "Evaluating RMSE, MAE of algorithm NMF on 3 split(s).\n",
      "\n",
      "                  Fold 1  Fold 2  Fold 3  Mean    Std     \n",
      "RMSE (testset)    0.9714  0.9635  0.9607  0.9652  0.0045  \n",
      "MAE (testset)     0.7655  0.7574  0.7579  0.7603  0.0037  \n",
      "Fit time          0.47    0.45    0.43    0.45    0.02    \n",
      "Test time         0.14    0.15    0.15    0.15    0.01    \n"
     ]
    },
    {
     "data": {
      "text/plain": [
       "{'test_rmse': array([0.97143893, 0.96351638, 0.96073886]),\n",
       " 'test_mae': array([0.76550062, 0.75739384, 0.75789007]),\n",
       " 'fit_time': (0.4718654155731201, 0.4509406089782715, 0.43446922302246094),\n",
       " 'test_time': (0.13905739784240723, 0.1515824794769287, 0.14684224128723145)}"
      ]
     },
     "execution_count": 3,
     "metadata": {},
     "output_type": "execute_result"
    }
   ],
   "source": [
    "from surprise import SVDpp, NMF\n",
    "from surprise.model_selection import cross_validate\n",
    "\n",
    "# SVD++\n",
    "print('Evaluating SVD++...')\n",
    "algo_svdpp = SVDpp(n_epochs=20, lr_all=0.01, reg_all=0.1)\n",
    "cross_validate(algo_svdpp, data, measures=['RMSE', 'MAE'], cv=3, verbose=True)\n",
    "\n",
    "# NMF\n",
    "print('Evaluating NMF...')\n",
    "algo_nmf = NMF(n_epochs=20, reg_pu=0.1, reg_qi=0.1)  # Note: reg_pu & reg_qi are regularization terms for NMF\n",
    "cross_validate(algo_nmf, data, measures=['RMSE', 'MAE'], cv=3, verbose=True)\n"
   ]
  },
  {
   "cell_type": "code",
   "execution_count": 5,
   "id": "aded50c8-06c5-4b30-ad19-db637f264279",
   "metadata": {},
   "outputs": [
    {
     "ename": "SyntaxError",
     "evalue": "invalid syntax (3210887690.py, line 7)",
     "output_type": "error",
     "traceback": [
      "\u001b[1;36m  Cell \u001b[1;32mIn[5], line 7\u001b[1;36m\u001b[0m\n\u001b[1;33m    SVD++ might be the best choice despite its longer training time. However, if you need a balance between speed and accuracy, the tuned SVD model might be the way to go\u001b[0m\n\u001b[1;37m                ^\u001b[0m\n\u001b[1;31mSyntaxError\u001b[0m\u001b[1;31m:\u001b[0m invalid syntax\n"
     ]
    }
   ],
   "source": [
    "# SVD++ had a slightly lower RMSE than SVD, indicating better accuracy.\n",
    "# NMF had a higher RMSE and MAE than both SVD variants, suggesting it may not predict as accurately in this context.\n",
    "# NMF was faster in terms of fit time compared to SVD++, but given its lower accuracy, the speed advantage may not be beneficial.\n",
    "# SVD was likely the fastest in terms of fit time and had decent accuracy, making it a good candidate for scenarios where speed is essential.\n",
    "\n",
    "\n",
    "# SVD++ might be the best choice despite its longer training time.\n",
    "# However, if you need a balance between speed and accuracy, the tuned SVD model might be the way to go"
   ]
  }
 ],
 "metadata": {
  "kernelspec": {
   "display_name": "Python 3 (ipykernel)",
   "language": "python",
   "name": "python3"
  },
  "language_info": {
   "codemirror_mode": {
    "name": "ipython",
    "version": 3
   },
   "file_extension": ".py",
   "mimetype": "text/x-python",
   "name": "python",
   "nbconvert_exporter": "python",
   "pygments_lexer": "ipython3",
   "version": "3.10.11"
  }
 },
 "nbformat": 4,
 "nbformat_minor": 5
}
